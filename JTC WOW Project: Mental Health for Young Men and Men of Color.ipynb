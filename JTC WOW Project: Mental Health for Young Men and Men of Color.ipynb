{
 "cells": [
  {
   "cell_type": "markdown",
   "metadata": {},
   "source": [
    "# **Mental Health for Young Men and Men of Color**#\n",
    "\n",
    "**By : Jeneil Stallion and Hernan Carvente-Martinez**"
   ]
  },
  {
   "cell_type": "markdown",
   "metadata": {},
   "source": [
    "As behavioral health advocates who work in the public health field, our passion is to raise awareness on behavioral health in our community. Historically and currently, men of color—-particularly African-American and Latinx, are overburdened by unaddressed mental and behavioral health disparities; often this stems from adverse childhood experiences and/or structural violence leading into adulthood. Within the field of behavioral health, Black and Brown men are under-represented in this profession. It can be an asset to have health professionals within the care network who have cultural context and lived experience addressing trauma as men of color, so we decided to show the disparity of resources targeted towards young men and men of color.  "
   ]
  },
  {
   "cell_type": "markdown",
   "metadata": {},
   "source": [
    "Our project highlights the disparities of mental health resources specifically for young men and men of color. We chose to do research on NAMI (National Alliance on Mental Illness), and NIMH (National Institute of Mental Health), two of the top mental health organizations in the country. To accomplish this task, we used the following skills and resources:"
   ]
  },
  {
   "cell_type": "markdown",
   "metadata": {},
   "source": [
    "- Python’s requests library\n",
    "- Beautiful soup to parse and web scrape the data\n",
    "- Created a For loop to iterate through specific ‘Keywords” and return search results\n",
    "- Defined functions to pull specific information from html documents and return data\n",
    "- Created a CSV file of parsed information from NAMI and NIMH websites"
   ]
  },
  {
   "cell_type": "markdown",
   "metadata": {},
   "source": [
    "**NIMH (National Institute of Mental Health) Web Scrape by : Jeneil Stallion**"
   ]
  },
  {
   "cell_type": "markdown",
   "metadata": {},
   "source": [
    "Import BeautifulSoup, Pythons's requests library, and csv"
   ]
  },
  {
   "cell_type": "code",
   "execution_count": 1,
   "metadata": {},
   "outputs": [],
   "source": [
    "from bs4 import BeautifulSoup\n",
    "import requests\n",
    "import csv\n"
   ]
  },
  {
   "cell_type": "markdown",
   "metadata": {},
   "source": [
    "Define webpage url to get data from"
   ]
  },
  {
   "cell_type": "code",
   "execution_count": 2,
   "metadata": {},
   "outputs": [],
   "source": [
    "url = 'https://www.nimh.nih.gov/health/find-help/index.shtml#part_150431'"
   ]
  },
  {
   "cell_type": "markdown",
   "metadata": {},
   "source": [
    "Request a response to make sure the website is valid"
   ]
  },
  {
   "cell_type": "code",
   "execution_count": 4,
   "metadata": {},
   "outputs": [],
   "source": [
    "response = requests.get(url)"
   ]
  },
  {
   "cell_type": "markdown",
   "metadata": {},
   "source": [
    "Print out contents of website to view html"
   ]
  },
  {
   "cell_type": "code",
   "execution_count": 6,
   "metadata": {},
   "outputs": [],
   "source": [
    "source = response.content"
   ]
  },
  {
   "cell_type": "markdown",
   "metadata": {},
   "source": [
    "create soup object to parse"
   ]
  },
  {
   "cell_type": "code",
   "execution_count": 8,
   "metadata": {},
   "outputs": [],
   "source": [
    "soup = BeautifulSoup(response.text, 'html.parser')"
   ]
  },
  {
   "cell_type": "markdown",
   "metadata": {},
   "source": [
    "Define the domain's url"
   ]
  },
  {
   "cell_type": "code",
   "execution_count": 36,
   "metadata": {},
   "outputs": [],
   "source": [
    "nimh_domain = 'https://www.nimh.gov'"
   ]
  },
  {
   "cell_type": "markdown",
   "metadata": {},
   "source": [
    "Create a function get_link_info(title) which pulls the title and information of the resources"
   ]
  },
  {
   "cell_type": "code",
   "execution_count": 40,
   "metadata": {},
   "outputs": [
    {
     "ename": "TabError",
     "evalue": "inconsistent use of tabs and spaces in indentation (<ipython-input-40-b4189d9bedc2>, line 29)",
     "output_type": "error",
     "traceback": [
      "\u001b[0;36m  File \u001b[0;32m\"<ipython-input-40-b4189d9bedc2>\"\u001b[0;36m, line \u001b[0;32m29\u001b[0m\n\u001b[0;31m    link_info = {'Link': url , 'Desription':link.text}\u001b[0m\n\u001b[0m                                                      ^\u001b[0m\n\u001b[0;31mTabError\u001b[0m\u001b[0;31m:\u001b[0m inconsistent use of tabs and spaces in indentation\n"
     ]
    }
   ],
   "source": [
    "def get_link_info(title):\n",
    "    #define function\n",
    "\tdata = []\n",
    "    #create list to append data into\n",
    "\tfor link in soup.find('section', {\"data-cms-title\": title}).findAll('a'):\n",
    "    #create for loop that finds all of the 'section' and title: data-cms-title'\n",
    "    #'a' is an acnchor element that creates a hyperlink to webpages. url is left blank so link will be returned\n",
    "\t\turl = ''\n",
    "\t\tif 'http://' in link['href']:\n",
    "\t\t\turl = link['href']\n",
    "        #if statement to add or remove wrong https:// hyperlink \n",
    "\t\telif 'https://' in link['href']:\n",
    "           #else if https:// is true is the href link, then print out href \n",
    "\t\t\turl = link['href']\n",
    "\t\telse: \n",
    "            #or else add the nimh_domain name to the link\n",
    "\t\t\turl = f\"{nimh_domain}{link['href']}\"\n",
    "\t\tprint(link.text)\n",
    "\t\tparent = link.find_parent('p')\n",
    "    #find parent folder with paragraphs inside\n",
    "\t\tprint(parent.text)\n",
    "    #print out the text for parent folders\n",
    "\t\tfor child in soup.p.children:\n",
    "        #find the child folders of the parent folders to access contents\n",
    "\t\t\tprint(child)\n",
    "        #print child folder\n",
    "\t\t\tfor e in soup.findAll('br'):\n",
    "            #find all 'br' to identify breaks in code\n",
    "        link_info = {'Link': url , 'Desription':link.text}\n",
    "        #specify link info parsed 'Link Url' & 'Description' text\n",
    "\t\tdata.append(link_info)\n",
    "        #add to link info folder\n",
    "\treturn data\n",
    "        #return data to data list\n"
   ]
  },
  {
   "cell_type": "code",
   "execution_count": 41,
   "metadata": {},
   "outputs": [],
   "source": [
    "def get_healthcare_info(title):\n",
    "    #define function to get healthcare resources info\n",
    "\thealthcare_data = []\n",
    "    #create empty library to append data\n",
    "\tfor link in soup.find('section', {\"data-cms-title\": title}).findAll('a'):\n",
    "\t\turl = ''\n",
    "        #  #create for loop that finds all of the 'section' and title: data-cms-title'\n",
    "    #'a' is an acnchor element that creates a hyperlink to webpages. url is left blank so link will be returned\n",
    "\t\tif 'http://' in link['href']:\n",
    "\t\t\turl = link['href']\n",
    "             #if statement to add or remove wrong https:// hyperlink \n",
    "\t\telif 'https://' in link['href']:\n",
    "\t\t\turl = link['href']\n",
    "             #else if https:// is true is the href link, then print out href \n",
    "\t\telse: \n",
    "\t\t\turl = f\"{nimh_domain}{link['href']}\"\n",
    "            # #or else add the nimh_domain name to the link\n",
    "\t\tprint(link.text)\n",
    "        #print conents of link\n",
    "\t\tlink_info = {'Link': url , 'Desription':link.text}\n",
    "        #Define link info with parsed data\n",
    "\t\thealthcare_data.append(link_info)\n",
    "        #append data to link info\n",
    "\treturn healthcare_data\n",
    "        #return data to healtcare_data list"
   ]
  },
  {
   "cell_type": "code",
   "execution_count": 42,
   "metadata": {},
   "outputs": [
    {
     "name": "stdout",
     "output_type": "stream",
     "text": [
      "National Suicide Prevention Lifeline\n",
      "National Suicide Prevention LifelineCall 1-800-273-TALK (8255); En Español 1-888-628-9454 The Lifeline is a free, confidential crisis hotline that is available to everyone 24 hours a day, seven days a week. The Lifeline connects callers to the nearest crisis center in the Lifeline national network. These centers provide crisis counseling and mental health referrals. People who are deaf, hard of hearing, or have hearing loss can contact the Lifeline via TTY at 1-800-799-4889.\n",
      "Transforming the understanding\n",
      " and treatment of mental illnesses.\n",
      "Crisis Text Line\n",
      "Crisis Text LineText “HELLO” to 741741 The Crisis Text hotline is available 24 hours a day, seven days a week throughout the U.S. The Crisis Text Line serves anyone, in any type of crisis, connecting them with a crisis counselor who can provide support and information.\n",
      "Transforming the understanding\n",
      " and treatment of mental illnesses.\n",
      "Veterans Crisis Line\n",
      "Veterans Crisis Line Call 1-800-273-TALK (8255) and press 1 or text to 838255 The Veterans Crisis Line is a free, confidential resource that connects veterans 24 hours a day, seven days a week with a trained responder. The service is available to all veterans, even if they are not registered with the VA or enrolled in VA healthcare. People who are deaf, hard of hearing, or have hearing loss can call 1-800-799-4889.\n",
      "Transforming the understanding\n",
      " and treatment of mental illnesses.\n",
      "Disaster Distress Helpline\n",
      "Disaster Distress HelplineCall 1-800-985-5990 or text “TalkWithUs” to 66746 The disaster distress helpline provides immediate crisis counseling for people who are experiencing emotional distress related to any natural or human-caused disaster. The helpline is free, multilingual, confidential, and available 24 hours a day, seven days a week.\n",
      "Transforming the understanding\n",
      " and treatment of mental illnesses.\n",
      "Contact social media outlets directly\n",
      "Contact social media outlets directly if you are concerned about a friend’s social media updates or dial 911 in an emergency.\n",
      "Transforming the understanding\n",
      " and treatment of mental illnesses.\n",
      "NIMH 5 action steps for helping someone in emotional pain\n",
      "View the NIMH 5 action steps for helping someone in emotional pain infographic to see how you can help those in distress.\n",
      "Transforming the understanding\n",
      " and treatment of mental illnesses.\n",
      "National Suicide Prevention Lifeline\n",
      "Crisis Text Line\n",
      "Veterans Crisis Line\n",
      "Disaster Distress Helpline\n",
      "Contact social media outlets directly\n",
      "NIMH 5 action steps for helping someone in emotional pain\n"
     ]
    },
    {
     "data": {
      "text/plain": [
       "[{'Link': 'http://suicidepreventionlifeline.org/',\n",
       "  'Desription': 'National Suicide Prevention Lifeline'},\n",
       " {'Link': 'http://www.crisistextline.org/', 'Desription': 'Crisis Text Line'},\n",
       " {'Link': 'https://www.veteranscrisisline.net/',\n",
       "  'Desription': 'Veterans Crisis Line'},\n",
       " {'Link': 'https://www.samhsa.gov/find-help/disaster-distress-helpline',\n",
       "  'Desription': 'Disaster Distress Helpline'},\n",
       " {'Link': 'https://suicidepreventionlifeline.org/help-someone-else/safety-and-support-on-social-media/',\n",
       "  'Desription': 'Contact social media outlets directly'},\n",
       " {'Link': 'https://www.nimh.gov/health/publications/5-action-steps-for-helping-someone-in-emotional-pain/index.shtml',\n",
       "  'Desription': 'NIMH 5 action steps for helping someone in emotional pain'}]"
      ]
     },
     "execution_count": 42,
     "metadata": {},
     "output_type": "execute_result"
    }
   ],
   "source": [
    "get_link_info('Get Immediate Help in a Crisis')\n",
    "#use funtion to get link contents information and print out data\n",
    "get_healthcare_info('Get Immediate Help in a Crisis')\n",
    "#use funtion to get link contents information and print out data"
   ]
  },
  {
   "cell_type": "code",
   "execution_count": 43,
   "metadata": {},
   "outputs": [
    {
     "name": "stdout",
     "output_type": "stream",
     "text": [
      "National Suicide Prevention Lifeline\n",
      "National Suicide Prevention LifelineCall 1-800-273-TALK (8255); En Español 1-888-628-9454 The Lifeline is a free, confidential crisis hotline that is available to everyone 24 hours a day, seven days a week. The Lifeline connects callers to the nearest crisis center in the Lifeline national network. These centers provide crisis counseling and mental health referrals. People who are deaf, hard of hearing, or have hearing loss can contact the Lifeline via TTY at 1-800-799-4889.\n",
      "Transforming the understanding\n",
      " and treatment of mental illnesses.\n",
      "Crisis Text Line\n",
      "Crisis Text LineText “HELLO” to 741741 The Crisis Text hotline is available 24 hours a day, seven days a week throughout the U.S. The Crisis Text Line serves anyone, in any type of crisis, connecting them with a crisis counselor who can provide support and information.\n",
      "Transforming the understanding\n",
      " and treatment of mental illnesses.\n",
      "Veterans Crisis Line\n",
      "Veterans Crisis Line Call 1-800-273-TALK (8255) and press 1 or text to 838255 The Veterans Crisis Line is a free, confidential resource that connects veterans 24 hours a day, seven days a week with a trained responder. The service is available to all veterans, even if they are not registered with the VA or enrolled in VA healthcare. People who are deaf, hard of hearing, or have hearing loss can call 1-800-799-4889.\n",
      "Transforming the understanding\n",
      " and treatment of mental illnesses.\n",
      "Disaster Distress Helpline\n",
      "Disaster Distress HelplineCall 1-800-985-5990 or text “TalkWithUs” to 66746 The disaster distress helpline provides immediate crisis counseling for people who are experiencing emotional distress related to any natural or human-caused disaster. The helpline is free, multilingual, confidential, and available 24 hours a day, seven days a week.\n",
      "Transforming the understanding\n",
      " and treatment of mental illnesses.\n",
      "Contact social media outlets directly\n",
      "Contact social media outlets directly if you are concerned about a friend’s social media updates or dial 911 in an emergency.\n",
      "Transforming the understanding\n",
      " and treatment of mental illnesses.\n",
      "NIMH 5 action steps for helping someone in emotional pain\n",
      "View the NIMH 5 action steps for helping someone in emotional pain infographic to see how you can help those in distress.\n",
      "Transforming the understanding\n",
      " and treatment of mental illnesses.\n",
      "National Suicide Prevention Lifeline\n",
      "National Suicide Prevention LifelineCall 1-800-273-TALK (8255); En Español 1-888-628-9454 The Lifeline is a free, confidential crisis hotline that is available to everyone 24 hours a day, seven days a week. The Lifeline connects callers to the nearest crisis center in the Lifeline national network. These centers provide crisis counseling and mental health referrals. People who are deaf, hard of hearing, or have hearing loss can contact the Lifeline via TTY at 1-800-799-4889.\n",
      "Transforming the understanding\n",
      " and treatment of mental illnesses.\n",
      "Crisis Text Line\n",
      "Crisis Text LineText “HELLO” to 741741 The Crisis Text hotline is available 24 hours a day, seven days a week throughout the U.S. The Crisis Text Line serves anyone, in any type of crisis, connecting them with a crisis counselor who can provide support and information.\n",
      "Transforming the understanding\n",
      " and treatment of mental illnesses.\n",
      "Veterans Crisis Line\n",
      "Veterans Crisis Line Call 1-800-273-TALK (8255) and press 1 or text to 838255 The Veterans Crisis Line is a free, confidential resource that connects veterans 24 hours a day, seven days a week with a trained responder. The service is available to all veterans, even if they are not registered with the VA or enrolled in VA healthcare. People who are deaf, hard of hearing, or have hearing loss can call 1-800-799-4889.\n",
      "Transforming the understanding\n",
      " and treatment of mental illnesses.\n",
      "Disaster Distress Helpline\n",
      "Disaster Distress HelplineCall 1-800-985-5990 or text “TalkWithUs” to 66746 The disaster distress helpline provides immediate crisis counseling for people who are experiencing emotional distress related to any natural or human-caused disaster. The helpline is free, multilingual, confidential, and available 24 hours a day, seven days a week.\n",
      "Transforming the understanding\n",
      " and treatment of mental illnesses.\n",
      "Contact social media outlets directly\n",
      "Contact social media outlets directly if you are concerned about a friend’s social media updates or dial 911 in an emergency.\n",
      "Transforming the understanding\n",
      " and treatment of mental illnesses.\n",
      "NIMH 5 action steps for helping someone in emotional pain\n",
      "View the NIMH 5 action steps for helping someone in emotional pain infographic to see how you can help those in distress.\n",
      "Transforming the understanding\n",
      " and treatment of mental illnesses.\n",
      "therapy\n",
      "medication\n",
      "bringing up your mental health concerns and asking for help\n",
      "Substance Abuse and Mental Health Services Administration (SAMHSA)\n",
      "Behavioral Health Treatment Locator\n",
      "Health Resources and Services Administration (HRSA):\n",
      "Centers for Medicare & Medicaid Services (CMS)\n",
      "The National Library of Medicine (NLM) MedlinePlus\n",
      "directories\n",
      "organizations\n",
      "Mental Health and Addiction Insurance Help\n",
      "Anxiety and Depression Association of America\n",
      "Depression and Bipolar Support Alliance\n",
      "Mental Health America\n",
      "National Alliance on Mental Illness\n",
      "Help for Service Members and Their Families page\n",
      "U.S. Department of Veteran Affairs’ mental health page\n",
      "csv complete\n"
     ]
    }
   ],
   "source": [
    "get_link_info('Get Immediate Help in a Crisis')\n",
    "#create csv file\n",
    "Headers = ['Link', 'Desription']\n",
    "#name headers of csv file\n",
    "dict_data = get_link_info('Get Immediate Help in a Crisis',)\n",
    "#define data to be added to csv file\n",
    "healthcare_data = get_healthcare_info('Find a Health Care Provider or Treatment')\n",
    "#define data to be added to csv file\n",
    "NIMH_data = dict_data + healthcare_data \n",
    "#Add data together as one\n",
    "csv_file = \"NIMH_data_final.csv\"\n",
    "#name csv file\n",
    "try:\n",
    "#try statement\n",
    "    with open(csv_file, 'w') as csvfile:\n",
    "#open csv and write as csv file\n",
    "        writer = csv.DictWriter(csvfile, fieldnames=Headers)\n",
    "    #specify writer and name of headers\n",
    "        writer.writeheader()\n",
    "        for data in NIMH_data:\n",
    "            writer.writerow(data)\n",
    "    print('csv complete')\n",
    "#print when complete\n",
    "except IOError:\n",
    "    print(\"I/O error\")\n",
    "    #print if error"
   ]
  },
  {
   "cell_type": "code",
   "execution_count": null,
   "metadata": {},
   "outputs": [],
   "source": []
  },
  {
   "cell_type": "code",
   "execution_count": null,
   "metadata": {},
   "outputs": [],
   "source": []
  },
  {
   "cell_type": "code",
   "execution_count": null,
   "metadata": {},
   "outputs": [],
   "source": []
  }
 ],
 "metadata": {
  "kernelspec": {
   "display_name": "Python 3",
   "language": "python",
   "name": "python3"
  },
  "language_info": {
   "codemirror_mode": {
    "name": "ipython",
    "version": 3
   },
   "file_extension": ".py",
   "mimetype": "text/x-python",
   "name": "python",
   "nbconvert_exporter": "python",
   "pygments_lexer": "ipython3",
   "version": "3.8.3"
  }
 },
 "nbformat": 4,
 "nbformat_minor": 4
}
