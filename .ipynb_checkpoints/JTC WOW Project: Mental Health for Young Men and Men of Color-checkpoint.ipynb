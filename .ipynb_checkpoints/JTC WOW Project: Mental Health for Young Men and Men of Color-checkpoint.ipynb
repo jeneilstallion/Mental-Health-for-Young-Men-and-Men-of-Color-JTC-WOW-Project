{
 "cells": [
  {
   "cell_type": "markdown",
   "metadata": {},
   "source": [
    "## **Mental Health for Young Men and Men of Color**#\n",
    "\n",
    "**By : Jeneil Stallion and Hernan Carvente-Martinez**"
   ]
  },
  {
   "cell_type": "markdown",
   "metadata": {},
   "source": [
    "As behavioral health advocates who work in the public health field, our passion is to raise awareness on behavioral health in our community. Historically and currently, men of color—-particularly African-American and Latinx, are overburdened by unaddressed mental and behavioral health disparities; often this stems from adverse childhood experiences and/or structural violence leading into adulthood. Within the field of behavioral health, Black and Brown men are under-represented in this profession. It can be an asset to have health professionals within the care network who have cultural context and lived experience addressing trauma as men of color, so we decided to show the disparity of resources targeted towards young men and men of color.  "
   ]
  },
  {
   "cell_type": "markdown",
   "metadata": {},
   "source": [
    "Our project highlights the disparities of mental health resources specifically for young men and men of color. We chose to do research on NAMI (National Alliance on Mental Illness), and NIMH (National Institute of Mental Health), two of the top mental health organizations in the country. To accomplish this task, we used the following skills and resources:"
   ]
  },
  {
   "cell_type": "markdown",
   "metadata": {},
   "source": [
    "- Python’s requests library\n",
    "- Beautiful soup to parse and web scrape the data\n",
    "- Created a For loop to iterate through specific ‘Keywords” and return search results\n",
    "- Defined functions to pull specific information from html documents and return data\n",
    "- Created a CSV file of parsed information from NAMI and NIMH websites"
   ]
  },
  {
   "cell_type": "code",
   "execution_count": null,
   "metadata": {},
   "outputs": [],
   "source": []
  }
 ],
 "metadata": {
  "kernelspec": {
   "display_name": "Python 3",
   "language": "python",
   "name": "python3"
  },
  "language_info": {
   "codemirror_mode": {
    "name": "ipython",
    "version": 3
   },
   "file_extension": ".py",
   "mimetype": "text/x-python",
   "name": "python",
   "nbconvert_exporter": "python",
   "pygments_lexer": "ipython3",
   "version": "3.8.3"
  }
 },
 "nbformat": 4,
 "nbformat_minor": 4
}
