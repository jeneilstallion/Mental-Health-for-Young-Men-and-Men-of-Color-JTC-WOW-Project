{
 "cells": [
  {
   "cell_type": "markdown",
   "metadata": {},
   "source": [
    "# **Mental Health for Young Men and Men of Color**#\n",
    "\n",
    "**By : Jeneil Stallion and Hernan Carvente-Martinez**"
   ]
  },
  {
   "cell_type": "markdown",
   "metadata": {},
   "source": [
    "As behavioral health advocates who work in the public health field, our passion is to raise awareness on behavioral health in our community. Historically and currently, men of color—-particularly African-American and Latinx, are overburdened by unaddressed mental and behavioral health disparities; often this stems from adverse childhood experiences and/or structural violence leading into adulthood. Within the field of behavioral health, Black and Brown men are under-represented in this profession. It can be an asset to have health professionals within the care network who have cultural context and lived experience addressing trauma as men of color, so we decided to show the disparity of resources targeted towards young men and men of color.  "
   ]
  },
  {
   "cell_type": "markdown",
   "metadata": {},
   "source": [
    "Our initial goal was to use python code to identify specific \"actionable\" mental health and wellness resources that we could share with young men and men of color in New York and Michigan. We aimed to accomplish this by web scraping some well known mental health websites and using python code to look through information on those website using specific keywords in the search bars. Unfortunately, we quickly realized two things: 1) not all websites had this information clearly and neatly organized in the HTML code and, 2) most of the resources that we were able to find were the typical sources that often times do not connect well with communities of color. This led us to quickly shifting our focus to seeing what was actually available in terms of resources on some of these well known websites."
   ]
  },
  {
   "cell_type": "markdown",
   "metadata": {},
   "source": [
    "Our project highlights the disparities of mental health resources specifically for young men and men of color. We chose to do research on NAMI (National Alliance on Mental Illness), and NIMH (National Institute of Mental Health), two of the top mental health organizations in the country. To accomplish this task, we used the following skills and resources:"
   ]
  },
  {
   "cell_type": "markdown",
   "metadata": {},
   "source": [
    "- Python’s requests library\n",
    "- Beautiful soup to parse and web scrape the data\n",
    "- Created a For loop to iterate through specific ‘Keywords” and return search results\n",
    "- Defined functions to pull specific information from html documents and return data\n",
    "- Created a CSV file of parsed information from NAMI and NIMH websites"
   ]
  },
  {
   "cell_type": "markdown",
   "metadata": {},
   "source": [
    "**NIMH (National Institute of Mental Health) Web Scrape by : Jeneil Stallion**"
   ]
  },
  {
   "cell_type": "markdown",
   "metadata": {},
   "source": [
    "Import BeautifulSoup, Pythons's requests library, and csv"
   ]
  },
  {
   "cell_type": "code",
   "execution_count": 1,
   "metadata": {},
   "outputs": [],
   "source": [
    "from bs4 import BeautifulSoup\n",
    "import requests\n",
    "import csv\n",
    "import pandas as pd"
   ]
  },
  {
   "cell_type": "markdown",
   "metadata": {},
   "source": [
    "Define webpage url to get data from"
   ]
  },
  {
   "cell_type": "code",
   "execution_count": 2,
   "metadata": {},
   "outputs": [],
   "source": [
    "url = 'https://www.nimh.nih.gov/health/find-help/index.shtml#part_150431'"
   ]
  },
  {
   "cell_type": "markdown",
   "metadata": {},
   "source": [
    "Request a response to make sure the website is valid"
   ]
  },
  {
   "cell_type": "code",
   "execution_count": 3,
   "metadata": {},
   "outputs": [],
   "source": [
    "response = requests.get(url)"
   ]
  },
  {
   "cell_type": "markdown",
   "metadata": {},
   "source": [
    "Print out contents of website to view html"
   ]
  },
  {
   "cell_type": "code",
   "execution_count": 4,
   "metadata": {},
   "outputs": [],
   "source": [
    "source = response.content"
   ]
  },
  {
   "cell_type": "markdown",
   "metadata": {},
   "source": [
    "create soup object to parse"
   ]
  },
  {
   "cell_type": "code",
   "execution_count": 5,
   "metadata": {},
   "outputs": [],
   "source": [
    "soup = BeautifulSoup(response.text, 'html.parser')"
   ]
  },
  {
   "cell_type": "markdown",
   "metadata": {},
   "source": [
    "Define the domain's url"
   ]
  },
  {
   "cell_type": "code",
   "execution_count": 6,
   "metadata": {},
   "outputs": [],
   "source": [
    "nimh_domain = 'https://www.nimh.gov'"
   ]
  },
  {
   "cell_type": "markdown",
   "metadata": {},
   "source": [
    "Create a function get_link_info(title) which pulls the title and information of the resources"
   ]
  },
  {
   "cell_type": "code",
   "execution_count": 7,
   "metadata": {},
   "outputs": [],
   "source": [
    "    #define a function to get url info. Takes one argument (title)\n",
    "    def get_link_info(title):\n",
    "    #create a list to append data into\n",
    "\tdata = []\n",
    "    #create for loop that iterates through html element'section' and title: data-cms-title'\n",
    "    #FindAll ('a') tags in specified section\n",
    "    #'a' is an acnchor element that creates a hyperlink to webpages. url\n",
    "    #The url link in the soup.find 'section', {\"data-cms-title\": title}).findAll('a') = url\n",
    "\tfor link in soup.find('section', {\"data-cms-title\": title}).findAll('a'):\n",
    "\t\turl = ''\n",
    "\t\tif 'http://' in link['href']:\n",
    "        #if there is 'http://' in the links url, set the url to the specific link hyperlink\n",
    "\t\t\turl = link['href']\n",
    "            #else if https:// is in the link['href'], set the url to the specific link hyperlink\n",
    "\t\telif 'https://' in link['href']:\n",
    "\t\t\turl = link['href']\n",
    "            #or else add the nimh_domain url name before the 'href' link\n",
    "\t\telse: \n",
    "\t\t\turl = f\"{nimh_domain}{link['href']}\"\n",
    "        #print out the text contents of the url link\n",
    "\t\tprint(link.text)\n",
    "        #I created these set of if statements because some links had inproper https:// adresses\n",
    "        #Set parent folder to a variable with with the 'p' element to access content and child folders\n",
    "\t\tparent = link.find_parent('p')\n",
    "        #Print text of parent folder with the 'p' element\n",
    "\t\tprint(parent.text)\n",
    "        #Iterate through parent folders to find contents of children folders\n",
    "\t\tfor child in soup.p.children:\n",
    "        #print text in children folders in the parent folder\n",
    "\t\t\tprint(child)\n",
    "            #Iterate through all '<br>' tags to remove them from code output. \n",
    "\t\t\tfor e in soup.findAll('br'):\n",
    "                #.extract removes all of the line break elements (<br>) \n",
    "\t\t\t\te.extract()\n",
    "        #Create variable for the 'Link' key value 'url' & 'Description' key value 'link.text'\n",
    "\t\tlink_info = {'Link': url , 'Desription':link.text}\n",
    "        #append parsed data info into the data list\n",
    "\t\tdata.append(link_info)\n",
    "    #end the function return data result\n",
    "\treturn data\n"
   ]
  },
  {
   "cell_type": "code",
   "execution_count": 8,
   "metadata": {},
   "outputs": [],
   "source": [
    "#define function to get healthcare resources info. Takes one argument(title)\n",
    "def get_healthcare_info(title):\n",
    "    #create empty list to append data into\n",
    "\thealthcare_data = []\n",
    "    #create for loop that iterates through html element'section' and title: data-cms-title'\n",
    "    #Similar to the get_link_info() function. I created two different functions beacuse the data was in different sections of webpage with different elements.\n",
    "\tfor link in soup.find('section', {\"data-cms-title\": title}).findAll('a'):\n",
    "\t\turl = ''\n",
    "        #if there is 'http://' in the links url, set the url to the specific link hyperlink\n",
    "\t\tif 'http://' in link['href']:\n",
    "\t\t\turl = link['href']\n",
    "             #else if https:// is in the link['href'], set the url to the specific link hyperlink\n",
    "\t\telif 'https://' in link['href']:\n",
    "\t\t\turl = link['href']\n",
    "             #or else add the nimh_domain url name before the 'href' link\n",
    "\t\telse: \n",
    "\t\t\turl = f\"{nimh_domain}{link['href']}\"\n",
    "            # #or else add the nimh_domain name to the link\n",
    "\t\tprint(link.text)\n",
    "        #print conents of link\n",
    "\t\tlink_info = {'Link': url , 'Desription':link.text}\n",
    "        #Define link info with parsed data\n",
    "\t\thealthcare_data.append(link_info)\n",
    "        #append data to healthcare_info list\n",
    "\treturn healthcare_data\n",
    "        #return data to healtcare_data list and end function"
   ]
  },
  {
   "cell_type": "code",
   "execution_count": 9,
   "metadata": {},
   "outputs": [
    {
     "name": "stdout",
     "output_type": "stream",
     "text": [
      "National Suicide Prevention Lifeline\n",
      "National Suicide Prevention LifelineCall 1-800-273-TALK (8255); En Español 1-888-628-9454 The Lifeline is a free, confidential crisis hotline that is available to everyone 24 hours a day, seven days a week. The Lifeline connects callers to the nearest crisis center in the Lifeline national network. These centers provide crisis counseling and mental health referrals. People who are deaf, hard of hearing, or have hearing loss can contact the Lifeline via TTY at 1-800-799-4889.\n",
      "Transforming the understanding\n",
      " and treatment of mental illnesses.\n",
      "Crisis Text Line\n",
      "Crisis Text LineText “HELLO” to 741741 The Crisis Text hotline is available 24 hours a day, seven days a week throughout the U.S. The Crisis Text Line serves anyone, in any type of crisis, connecting them with a crisis counselor who can provide support and information.\n",
      "Transforming the understanding\n",
      " and treatment of mental illnesses.\n",
      "Veterans Crisis Line\n",
      "Veterans Crisis Line Call 1-800-273-TALK (8255) and press 1 or text to 838255 The Veterans Crisis Line is a free, confidential resource that connects veterans 24 hours a day, seven days a week with a trained responder. The service is available to all veterans, even if they are not registered with the VA or enrolled in VA healthcare. People who are deaf, hard of hearing, or have hearing loss can call 1-800-799-4889.\n",
      "Transforming the understanding\n",
      " and treatment of mental illnesses.\n",
      "Disaster Distress Helpline\n",
      "Disaster Distress HelplineCall 1-800-985-5990 or text “TalkWithUs” to 66746 The disaster distress helpline provides immediate crisis counseling for people who are experiencing emotional distress related to any natural or human-caused disaster. The helpline is free, multilingual, confidential, and available 24 hours a day, seven days a week.\n",
      "Transforming the understanding\n",
      " and treatment of mental illnesses.\n",
      "Contact social media outlets directly\n",
      "Contact social media outlets directly if you are concerned about a friend’s social media updates or dial 911 in an emergency.\n",
      "Transforming the understanding\n",
      " and treatment of mental illnesses.\n",
      "NIMH 5 action steps for helping someone in emotional pain\n",
      "View the NIMH 5 action steps for helping someone in emotional pain infographic to see how you can help those in distress.\n",
      "Transforming the understanding\n",
      " and treatment of mental illnesses.\n",
      "National Suicide Prevention Lifeline\n",
      "Crisis Text Line\n",
      "Veterans Crisis Line\n",
      "Disaster Distress Helpline\n",
      "Contact social media outlets directly\n",
      "NIMH 5 action steps for helping someone in emotional pain\n"
     ]
    },
    {
     "data": {
      "text/plain": [
       "[{'Link': 'http://suicidepreventionlifeline.org/',\n",
       "  'Desription': 'National Suicide Prevention Lifeline'},\n",
       " {'Link': 'http://www.crisistextline.org/', 'Desription': 'Crisis Text Line'},\n",
       " {'Link': 'https://www.veteranscrisisline.net/',\n",
       "  'Desription': 'Veterans Crisis Line'},\n",
       " {'Link': 'https://www.samhsa.gov/find-help/disaster-distress-helpline',\n",
       "  'Desription': 'Disaster Distress Helpline'},\n",
       " {'Link': 'https://suicidepreventionlifeline.org/help-someone-else/safety-and-support-on-social-media/',\n",
       "  'Desription': 'Contact social media outlets directly'},\n",
       " {'Link': 'https://www.nimh.gov/health/publications/5-action-steps-for-helping-someone-in-emotional-pain/index.shtml',\n",
       "  'Desription': 'NIMH 5 action steps for helping someone in emotional pain'}]"
      ]
     },
     "execution_count": 9,
     "metadata": {},
     "output_type": "execute_result"
    }
   ],
   "source": [
    "get_link_info('Get Immediate Help in a Crisis')\n",
    "#Now the functions are ready to use and takes one arguement (title)\n",
    "#use get_link_info() funtion to get contents of specified section title. Print out data\n",
    "get_healthcare_info('Get Immediate Help in a Crisis')\n",
    "#use get_healthcare_info() funtion to get contents of specified section title. Print out data"
   ]
  },
  {
   "cell_type": "code",
   "execution_count": 10,
   "metadata": {},
   "outputs": [
    {
     "name": "stdout",
     "output_type": "stream",
     "text": [
      "National Suicide Prevention Lifeline\n",
      "National Suicide Prevention LifelineCall 1-800-273-TALK (8255); En Español 1-888-628-9454 The Lifeline is a free, confidential crisis hotline that is available to everyone 24 hours a day, seven days a week. The Lifeline connects callers to the nearest crisis center in the Lifeline national network. These centers provide crisis counseling and mental health referrals. People who are deaf, hard of hearing, or have hearing loss can contact the Lifeline via TTY at 1-800-799-4889.\n",
      "Transforming the understanding\n",
      " and treatment of mental illnesses.\n",
      "Crisis Text Line\n",
      "Crisis Text LineText “HELLO” to 741741 The Crisis Text hotline is available 24 hours a day, seven days a week throughout the U.S. The Crisis Text Line serves anyone, in any type of crisis, connecting them with a crisis counselor who can provide support and information.\n",
      "Transforming the understanding\n",
      " and treatment of mental illnesses.\n",
      "Veterans Crisis Line\n",
      "Veterans Crisis Line Call 1-800-273-TALK (8255) and press 1 or text to 838255 The Veterans Crisis Line is a free, confidential resource that connects veterans 24 hours a day, seven days a week with a trained responder. The service is available to all veterans, even if they are not registered with the VA or enrolled in VA healthcare. People who are deaf, hard of hearing, or have hearing loss can call 1-800-799-4889.\n",
      "Transforming the understanding\n",
      " and treatment of mental illnesses.\n",
      "Disaster Distress Helpline\n",
      "Disaster Distress HelplineCall 1-800-985-5990 or text “TalkWithUs” to 66746 The disaster distress helpline provides immediate crisis counseling for people who are experiencing emotional distress related to any natural or human-caused disaster. The helpline is free, multilingual, confidential, and available 24 hours a day, seven days a week.\n",
      "Transforming the understanding\n",
      " and treatment of mental illnesses.\n",
      "Contact social media outlets directly\n",
      "Contact social media outlets directly if you are concerned about a friend’s social media updates or dial 911 in an emergency.\n",
      "Transforming the understanding\n",
      " and treatment of mental illnesses.\n",
      "NIMH 5 action steps for helping someone in emotional pain\n",
      "View the NIMH 5 action steps for helping someone in emotional pain infographic to see how you can help those in distress.\n",
      "Transforming the understanding\n",
      " and treatment of mental illnesses.\n",
      "therapy\n",
      "medication\n",
      "bringing up your mental health concerns and asking for help\n",
      "Substance Abuse and Mental Health Services Administration (SAMHSA)\n",
      "Behavioral Health Treatment Locator\n",
      "Health Resources and Services Administration (HRSA):\n",
      "Centers for Medicare & Medicaid Services (CMS)\n",
      "The National Library of Medicine (NLM) MedlinePlus\n",
      "directories\n",
      "organizations\n",
      "Mental Health and Addiction Insurance Help\n",
      "Anxiety and Depression Association of America\n",
      "Depression and Bipolar Support Alliance\n",
      "Mental Health America\n",
      "National Alliance on Mental Illness\n",
      "Help for Service Members and Their Families page\n",
      "U.S. Department of Veteran Affairs’ mental health page\n",
      "csv complete\n"
     ]
    }
   ],
   "source": [
    "#write .py file to a csv file\n",
    "#assign variable to 'Link' & 'Description' for headers of csv file\n",
    "Headers = ['Link', 'Desription']\n",
    "#assign variables to data from function 'get_link_info('Get Immediate Help in a Crisis')' to be added to csv file\n",
    "dict_data = get_link_info('Get Immediate Help in a Crisis')\n",
    "#assign variables to data from function 'get_link_info('Find a Health Care Provider or Treatment')' to be added to csv file\n",
    "healthcare_data = get_healthcare_info('Find a Health Care Provider or Treatment')\n",
    "#Add data variables together to create one combined variable\n",
    "NIMH_data = dict_data + healthcare_data \n",
    "#Set variable for csv file name\n",
    "csv_file = \"NIMH_data_final.csv\"\n",
    "#name csv file\n",
    "try:\n",
    "#try statement\n",
    "    with open(csv_file, 'w') as csvfile:\n",
    "#open csv and write 'w' as csv file\n",
    "#You can also read csv files with 'r'\n",
    "        writer = csv.DictWriter(csvfile, fieldnames=Headers)\n",
    "        #Variable for writer which creates csv rows / name of headers\n",
    "        writer.writeheader()\n",
    "        for data in NIMH_data:\n",
    "            writer.writerow(data)\n",
    "    print('csv complete')\n",
    "#print when csv file is complete\n",
    "except IOError:\n",
    "    print(\"I/O error\")\n",
    "    #print if error occurs"
   ]
  },
  {
   "cell_type": "markdown",
   "metadata": {},
   "source": [
    "**National Allience for Mental Illness(NAMI) Web Scrape by: Hernan Carvente-Martinez**"
   ]
  },
  {
   "cell_type": "markdown",
   "metadata": {},
   "source": [
    "The python code below was created specifically for the NAMI website. Through this process we learned that the HTML code for this website was written in a way that allowed us to make minor changes to the url of the search we were trying to conduct to produce different results. \n",
    "\n",
    "Using python code, we created code to search for the specific terms 'Black','African American', 'Latino', 'Latinx','Latina', and 'Indigenous', in the nami website. We also only looked for specific resources like videos, nami reports, fact sheets, personal story, info graphics, blog posts, toolkits, publications, classes & programs, and events. \n",
    "\n",
    "We quicly learned that many of the resources that we found were in the form of blog posts with information that often contained links to other websites. The resources or organizations that were specific to communities of color were not very clear and so it was even more difficult to identify those that would be helpful to young men and men of color."
   ]
  },
  {
   "cell_type": "code",
   "execution_count": 11,
   "metadata": {},
   "outputs": [],
   "source": [
    "# Below are keywords that we searched on the nami website. \n",
    "# For 'African American', the %20 signifies a space in the url line\n",
    "keywords = ['Black','African%20American', 'Latino', 'Latinx','Latina',\n",
    "\t\t\t'Indigenous']\n",
    "\n",
    "# The set() method below creates an empty set where unique search results\n",
    "# are being placed once the line of code is run\n",
    "unique_results = set()\n",
    "\n",
    "# The lines of code below we are accessing a csv file where the unique results\n",
    "# above will be housed once the for loop goes through all the search keywords\n",
    "with open('nami_list.csv', newline='', mode='w') as csvfile:\n",
    "\tfieldnames = ['title', 'summary', 'link']\n",
    "\tnami_writer = csv.DictWriter(csvfile, fieldnames=fieldnames)\n",
    "\tnami_writer.writeheader()\n",
    "\n",
    "\t# Each keyword brings up multiple result pages so the for loop below goes \n",
    "\t# through every page of each keyword.\n",
    "\tfor number in range(1,10):\n",
    "\t\t#The for loop below is requesting the nami search page and going \n",
    "\t\t# through each of the keywords listed in the keywords list above. \t\t\n",
    "\t\tfor keyword in keywords:\n",
    "\t\t\t# This line of code contains the url for the nami search page.\n",
    "\t\t\t# We changed the keywork and the page number using the for loops\n",
    "\t\t\t# above to go through all the results.\n",
    "\t\t\turl = f'https://www.nami.org/Search?searchtext={keyword}&searchmode=allwords&bygroup=&bytopic=&bytype=139-141-142-143-144-145-146-147-149-153&page={number}'\n",
    "\t\t\t# The line of code below requests the nami url in text format \n",
    "\t\t\t# so that we can read and view the search contents in terminal \n",
    "\t\t\tnami_info = requests.get(url).text\n",
    "\t\t\t# The line of code below takes the url request above and creates\n",
    "\t\t\t# a soup object to parse the data\n",
    "\t\t\tsoup = BeautifulSoup(nami_info, 'lxml')\n",
    "\t\t\t\n",
    "\t\t\t# This is an empty list to place the title of each resource\n",
    "\t\t\ttitles_list = []\n",
    "\t\t\t# This is an empty list to place the summary of each resource \n",
    "\t\t\tsummary_list = []\n",
    "\t\t\t# This is an empty list to palce the url of each resource\n",
    "\t\t\turl_list = []\n",
    "\t\t\t\n",
    "\t\t\t# The for loop below is finding all of the tags in the html code \n",
    "\t\t\t# with the specific \"class\" for all the titles. \n",
    "\t\t\tfor resource_title in soup.find_all('div', class_='search-resultsTitle'):\n",
    "\t\t\t\t# This line defines titles with the specific anchor element\n",
    "\t\t\t\t# in the div tag where the title exists.\n",
    "\t\t\t\ttitle = resource_title.a.text\n",
    "\t\t\t\t# This line of code takes the title and adds it to the empty \n",
    "\t\t\t\t# titles list above and uses the strip function to remove\n",
    "\t\t\t\t# all of the extra spacing.\n",
    "\t\t\t\ttitles_list.append(title.strip())\n",
    "\n",
    "\t\t\t# The for loop below is finding all of the tags in the html code \n",
    "\t\t\t# with the specific \"class\" for all the summaries.\n",
    "\t\t\tfor resource_summary in soup.find_all('div', class_='search-resultsSummary'):\n",
    "\t\t\t\t# This line defines summary with the specific anchor element\n",
    "\t\t\t\t# in the div tag where the summary exists.\n",
    "\t\t\t\tsummary = resource_summary.text\n",
    "\t\t\t\t# This line of code takes the summary and adds it to the empty \n",
    "\t\t\t\t# summaries list above and uses the strip function to remove\n",
    "\t\t\t\t# all of the extra spacing.\n",
    "\t\t\t\tsummary_list.append(summary.strip())\n",
    "\n",
    "\t\t\t# The for loop below is finding all of the tags in the html code \n",
    "\t\t\t# with the specific \"class\" for all the url's.\n",
    "\t\t\tfor resource_url in soup.find_all('div', class_='search-resultsRelURL'):\n",
    "\t\t\t\t# This line defines summary with the specific anchor element\n",
    "\t\t\t\t# in the div tag where the url exists.\n",
    "\t\t\t\tlink = resource_url.a.get('href')\n",
    "\t\t\t\t# This line of code takes the url and adds it to the empty \n",
    "\t\t\t\t# url's list above and uses the strip function to remove\n",
    "\t\t\t\t# all of the extra spacing.\n",
    "\t\t\t\turl_list.append(link.strip())\n",
    "\n",
    "\t\t\t# The line below loops through each index in the lists that were \n",
    "\t\t\t# created. With each list being the same the same length.\n",
    "\t\t\tfor l in range(len(titles_list)):\n",
    "\t\t\t\t# This line of code adds each individual title with the\n",
    "\t\t\t\t# corresponding summary and url into the unique results empty\n",
    "\t\t\t\t# set created above.\t\t\n",
    "\t\t\t\tunique_results.add((titles_list[l], summary_list[l], url_list[l]))\t\t\n",
    "\n",
    "\t#This for loop goes through each result in the unique results set\n",
    "\tfor result in unique_results:\n",
    "\t\t# The line of code below adds each unique result to the CSV file we \n",
    "\t\t# created to house the results of the webscraping\t\n",
    "\t\tnami_writer.writerow({'title': result[0] , 'summary': result[1], 'link': result[2]})"
   ]
  },
  {
   "cell_type": "markdown",
   "metadata": {},
   "source": [
    "**The results printed below are all of the unique results that came from the specific keywords we identified for this project.** \n",
    "\n",
    "The more keywords we added the more results we received but the results also became less relevant."
   ]
  },
  {
   "cell_type": "code",
   "execution_count": 12,
   "metadata": {},
   "outputs": [
    {
     "name": "stdout",
     "output_type": "stream",
     "text": [
      "{('How I Stopped Playing the Blame Game', 'Six years ago, when I was 23, I published a memoir about my long struggle with an eating disorder. My painful story pointed the finger at family and friends who didn’t understand what I was going through.\\xa0 \\xa0 Looking back, I see that playing the blame game only prolong...', 'https://www.nami.org/Blogs/NAMI-Blog/March-2019/How-I-Stopped-Playing-the-Blame-Game'), ('Anxiety Shapes My Life', 'Living with anxiety is one of the reasons I decided to pursue mental health and substance abuse counseling as my career. I want to help people that struggle with the deep, dark monsters known collectively as mental illness.', 'https://www.nami.org/Personal-Stories/Anxiety-Shapes-My-Life'), ('He’s Not a Criminal, He’s in Crisis', 'I facilitate a peer-led support group called the NAMI Connection Recovery Support Group for Black men. The men who attend the group have all been accused of felonies. They also have all been diagnosed with a mental health condition, such as schizophrenia, bipolar disorder, P...', 'https://www.nami.org/Blogs/NAMI-Blog/July-2020/He-s-Not-a-Criminal-He-s-in-Crisis'), ('Mental Health: Let’s Talk About Culture, Race And Ethnicity', 'It can be a mouthful to say in a conversation: Minority Mental Health Awareness Monthly (MMHAM). During its annual observance in July, I’m also sometimes asked why it is needed when we already have Mental Health Awareness Month in May. One recent study provides an answer....', 'https://www.nami.org/Blogs/From-the-CEO/July-2016/Mental-Health-Let-s-Talk-About-Culture-Race-And'), ('Improve Your Own Mental Health', 'To me, good mental health means actually wanting to get out of bed in the morning and tackling the challenges I normally find overwhelming. To achieve this, I put a lot of effort in maintaining my mental health.', 'https://www.nami.org/Personal-Stories/Improve-Your-Own-Mental-Health'), ('Breaking Tradition', 'Growing up, I was convinced my father was the strongest man alive. Not only could he carry two full bags of laundry up our three-floor walkup in a single trip and open any stubborn jar with almost zero effort, nothing could make the man cry. As a child, I thought that was ...', 'https://www.nami.org/Blogs/NAMI-Blog/July-2017/Breaking-Tradition'), ('You Can’t “Pray Away” a Mental Health Condition', \"At times, it's hard to believe that over 22 years ago, I almost took my life due to depression . Being a black female and growing up in the 1960's where black people had way more to deal with than mental health conditions, mental health was never really discussed. Fast...\", 'https://www.nami.org/Blogs/NAMI-Blog/March-2018/You-Can-t-Pray-Away”-a-Mental-Health-Condition'), ('Can Culture Affect the Risk of Suicide?', 'According to the Centers for Disease Control (CDC), more than 41,000 people die by suicide each year in the United States. Suicidal behaviors often result from experiencing humiliation and shame, lack of support from family members, failure to meet expectations or from envir...', 'https://www.nami.org/Blogs/NAMI-Blog/October-2015/Can-Culture-Affect-the-Risk-of-Suicide'), ('Continuing the Conversation', 'I was diagnosed with bipolar II, major depressive disorder and generalized anxiety disorder at the age of 25. It’s hard for me to grasp that my official diagnosis was only two years ago because so much has transpired and changed since then.', 'https://www.nami.org/Personal-Stories/Continuing-the-Conversation'), ('5 Sleep Tips that Can Help with Depression', 'We all feel a little blue from time to time. Sadness is a fundamental part of the human condition. For the majority, feeling down is often a temporary experience connected to specific events. For others, a sense of sadness or hopelessness can be more persistent—this is ...', 'https://www.nami.org/Blogs/NAMI-Blog/January-2018/5-Sleep-Tips-that-Can-Help-with-Depression'), ('How My Latina Identity Holds Hands with My Depression', 'When I was in college, I was diagnosed with depression. It had been apparent that something was wrong halfway through high school when I carried a sadness, an exhaustion and a heaviness I couldn’t explain. I spent the rest of college trying to find the right treatment t...', 'https://www.nami.org/Blogs/NAMI-Blog/July-2020/How-My-Latina-Identity-Holds-Hands-with-My-Depression'), (\"From Psychosis to Functionality with NAMI's Help\", 'I found NAMI New Jersey (NJ) through a self-help clearing house index. I was looking for a non-profit to volunteer with, as was my way when I was very ill and could not work. I was new in the area and had never heard of NAMI, but I figured if I was going to help a non-profit ...', 'https://www.nami.org/Blogs/NAMI-Blog/July-2012/From-Psychosis-to-Functionality-with-NAMI-s-Help'), ('A Bipolar Disorder Diagnosis is Not a Death Sentence', 'I can’t believe I ever wanted to die. Sometimes it’s hard to remember what it felt like to be so hopeless that I was willing to end my own life. The saying “suicide is a permanent solution to a temporary problem” is so true. Just because one day, one week, even one year or ...', 'https://www.nami.org/Blogs/NAMI-Blog/September-2019/A-Bipolar-Disorder-Diagnosis-is-Not-a-Death-Sentence'), ('Coping with Bipolar Disorder within My Faith Community', 'I have been a church girl all my life, and the traditions and cultural importance of the African American church community shape who I am.\\xa0 In my community, there is a stark contrast between physical illness and mental illness. I would often hear about people with diabet...', 'https://www.nami.org/Blogs/NAMI-Blog/July-2019/Coping-with-Bipolar-Disorder-within-My-Faith-Community'), ('Changing the Conversation About Suicide in the Black Community', 'Note: This blog is presented as a cross-collaboration between NAMI and the\\xa0 American Foundation for Suicide Prevention , whose mission is to save lives and bring hope to those affected by suicide. It originally appeared on the\\xa0 AFSP Lifesavers Blog . \\xa0 I had always fe...', 'https://www.nami.org/Blogs/NAMI-Blog/July-2018/Changing-the-Conversation-About-Suicide-in-the-Bla'), ('4 Ways to Love Yourself as a Black Woman with Mental Illness', 'For years, I struggled with the notion that I was “less than” because of my bipolar disorder. I felt I would never find true love, accomplish my goals or be able to love myself because of my diagnosis. I saw my symptoms as significant flaws that were holding me back from ev...', 'https://www.nami.org/Blogs/NAMI-Blog/July-2019/4-Ways-to-Love-Yourself-as-a-Black-Woman-with-Mental-Illness'), ('Latinos: Has Mental Illness Knocked at Your Door?', 'It is a sunny mid-September morning in the Washington, D.C. area. The cool air and the smell of my last stash of Colombian coffee transport me back to the Equator. If really high mountains were to pop up in the background, the street were to shrink and traffic were to suddenl...', 'https://www.nami.org/Blogs/NAMI-Blog/September-2013/Latinos-Has-Mental-Illness-Knocked-at-Your-Door'), ('Faith and Therapy', '\"I define my wellness plan by a simple equation: faith + therapy = my recovery.\"', 'https://www.nami.org/Personal-Stories/Faith-and-Therapy'), ('Stigma-Busting Within the African American Community', 'As Miss International 2015 and a national ambassador for NAMI, I have spent the last year with a specific focus on breaking the stigma associated with mental health. I do this work not only because I am a psychotherapist, but also because certain individuals resist seek...', 'https://www.nami.org/Blogs/NAMI-Blog/July-2016/Stigma-Busting-Within-the-African-American-Communi'), ('Courage and Progress', 'Thank you, Taraji, for your time and joining us today. We appreciate all the work you are doing in this space. Why is embracing the mental health movement important to you, and why now? Taraji P. Henson:\\xa0Given the social and political climate we live in today, if not now...', 'https://www.nami.org/Blogs/NAMI-Blog/July-2019/Courage-and-Progress'), ('AKA and NAMI: Building Bridges in the African-American Community', 'Race and ethnicity are an important piece of someone’s culture. And culture, even when we don’t realize it, has a deep influence on how we live our lives. It’s culture that helps form our values, attitudes and norms. It’s culture that connects us to our faith, our famil...', 'https://www.nami.org/Blogs/NAMI-Blog/July-2017/AKA-and-NAMI-Building-Bridges-in-the-African-Amer'), ('Peer Support Saved My Life', 'I began my journey as a peer support specialist accidentally. I was actually supporting my peers long before I knew there was a title, specialized trainings, career opportunities or a structured way to use my lived experience as a “tool” to assist others on their mental h...', 'https://www.nami.org/Blogs/NAMI-Blog/August-2018-/Peer-Support-Saved-My-Life'), ('Celebrating Latino Culture and Creating Change', '“Family comes first,” my mother always says. It constantly reminds me how important spending time with them is. Growing up, I was always surrounded by an endless number of family members. My grandmother, aunts, uncles, cousins, second cousins-you name it-all gathered togeth...', 'https://www.nami.org/Blogs/NAMI-Blog/October-2015/Celebrating-Latino-Culture-and-Creating-Change'), ('Addiction and Mental Health', 'DBT taught me so many amazing skills that are automatic to me now. I’m confident in my ability to make wise decisions and not react based on my emotions.', 'https://www.nami.org/Personal-Stories/Addiction-and-Mental-Health'), ('Change Starts with Us', 'As college students begin the new academic year, there is one subject that all of them should be focused on, regardless of their major. Suicide is a subject that most people don’t talk about until a tragedy happens, yet it remains the second leading cause of death among co...', 'https://www.nami.org/Blogs/NAMI-Blog/September-2014/Change-Starts-with-Us'), ('Overcoming the Silence of Stigma through Film', 'Who would think that the way to finally get your family talking about mental illness would be to sit them in front of a camera and start rolling? That’s exactly what Dinesh Das Sabu did in\\xa0 Unbroken Glass , his new documentary from Kartemquin Films.\\xa0 After living his ...', 'https://www.nami.org/Blogs/NAMI-Blog/January-2017/Overcoming-the-Silence-of-Stigma-through-Film'), ('Leader of Landmark Gene Research on Schizophrenia to Speak at NAMI Convention', 'Dr. Steven McCarroll, who led the research team responsible for a study that examines the gene that may be a risk factor for schizophrenia, will speak at this year’s NAMI National Convention , July 6–9 in Denver. Dr. McCarroll is an assistant professor in the Department of ...', 'https://www.nami.org/Blogs/NAMI-Blog/May-2016/Leader-of-Landmark-Gene-Research-on-Schizophrenia'), ('Healing by Helping Others', 'In December 2011, I launched a global non-profit organization called The Siwe Project . It was named for Siwe Monsanto, the 15 year-old daughter of a good friend. I’d known Siwe since she was 4 years old so I was aware of her ups and downs. However, it still came as a s...', 'https://www.nami.org/Blogs/NAMI-Blog/July-2013/Healing-by-Helping-Others'), ('Acknowledging the Importance of Minority Mental Health Month', 'Kayla Sharpe, left, and Valerie Denis at AKA International Convention Boulé – July 12, 2016 July is Minority Mental Health Month and I know what some of you may be thinking: Doesn’t the distinction of minority mental health further divide and isolate minority communiti...', 'https://www.nami.org/Blogs/NAMI-Blog/July-2016/Acknowledging-the-Importance-of-Minority-Mental-He'), ('What Is It Like to Hallucinate?', 'What does it mean to “hear things” and “see things?” \\xa0 This question has been one that has puzzled me for as long as I have understood schizophrenia. When I was a child and I met my aunt, completely taken over by schizophrenia, my father explained to me that she “heard”...', 'https://www.nami.org/Blogs/NAMI-Blog/May-2020/What-Is-It-Like-to-Hallucinate'), ('There is Hope!', 'Today, I am good. I won’t say great because there are days when I want to give up because I feel no one listens to me about mental illness. But I know I am helping some people.', 'https://www.nami.org/Personal-Stories/There-is-Hope'), ('I Remember When Worry Was a Friend', 'When I was younger, I worried about everything. Worry was with me in high school: Would I get into college? If so, which one? Worry was with me when I was in college: Would I pass my finals? Would I get a job afterwards? I always assumed that I had to worry about st...', 'https://www.nami.org/Blogs/NAMI-Blog/July-2017/I-Remember-When-Worry-Was-a-Friend'), ('Why Black Churches Need to Do Better with Mental Health Issues', 'One of the oldest, and at times, only, emotional outlet and support for Black women has been the church. According to the\\xa0 Pew Research Center , 91% of Black Americans say religion is somewhat or very important in their lives, and 79% identify as Christian.\\xa0 \\xa0 For me, f...', 'https://www.nami.org/Blogs/NAMI-Blog/July-2020/Why-Black-Churches-Need-to-Do-Better-with-Mental-Health-Issues'), (\"Strengthening NAMI's Connection with the African American Community\", 'At the AKA and NAMI event in Knoxville, Tenn. Helen Keller said, “Alone we can do so little; together we can do so much.” Here at NAMI we know this very well. Many of us arrived at NAMI feeling alone and carrying very heavy burdens. Once here, we found a place worth ...', 'https://www.nami.org/Blogs/NAMI-Blog/April-2015/Strengthening-NAMI-s-Connection-with-the-African-A'), ('31 Stories, 31 Days: Dixie Gamble', 'Family struggle inspired Dixie Gamble to make \\xa0crisis intervention training films for first responders.', 'https://www.nami.org/Personal-Stories/31-Stories-31-Days-Dixie-Gamble'), ('Diversity in Motion: Raising Awareness through Dance', 'Over time and through the Build It Together initiative, NAMI Wisconsin has worked to become an increasingly more inclusive and culturally competent organization. In these efforts, we found that truly building bridges and establishing ourselves as a trusted organization wit...', 'https://www.nami.org/Blogs/NAMI-Blog/June-2016/Diversity-in-Motion-Raising-Awareness-through-Dan'), ('Getting My Son the Help He Needed', '“I’m not depressed, I’m hurting.” This is what my soon to be 15-year-old son said to me less than a week after his cutting attempt. He was in tears telling me that he felt hopeless and had no will to live. It broke my heart because I know that feeling very well, as I have\\xa0 ...', 'https://www.nami.org/Blogs/NAMI-Blog/April-2020/Getting-My-Son-the-Help-He-Needed'), ('How Being an Iranian Immigrant Affected My Mental Health', 'When I was young, my family and I moved from Iran to America, the land of opportunity. I left behind friends, family, delicious food, a language I spoke and understood—a life that made sense. Suddenly, I was a young child entering sixth grade in a foreign land and unprepar...', 'https://www.nami.org/Blogs/NAMI-Blog/July-2018/How-Being-an-Iranian-Immigrant-Affected-My-Mental'), ('Say It Out Loud: Speaking with Teens about Mental Health', \"Stigma about mental health prevents teens from seeking help. Learn how NAMI's Say it Out Loud can get teens talking and asking for help when they need it.\", 'https://www.nami.org/Get-Involved/What-Can-I-Do/Become-a-Leader-in-the-Mental-Health-Movement/Say-It-Out-Loud-Speaking-with-Teens-about-Mental'), ('Racial Disparities in Mental Health and Criminal Justice', 'July is\\xa0 Minority Mental Health Month , a time dedicated to raising awareness about the unique challenges that underrepresented communities face in accessing mental health treatment in the U.S. \\xa0 I am a mental health researcher at the Vera Institute of Justice, an organ...', 'https://www.nami.org/Blogs/NAMI-Blog/July-2019/Racial-Disparities-in-Mental-Health-and-Criminal-Justice'), ('Take Two', 'With the help of newer medication and a very competent doctor, I am now in good shape. I appreciate the love and support of my wife, children, family and my doctor.', 'https://www.nami.org/Personal-Stories/Take-Two'), ('This is Me and I’m Not Ashamed', 'It’s going to be a long process, but this is me. I’m not ashamed anymore about being on medication and talking to a therapist once a week. It feels amazing and liberating.', 'https://www.nami.org/Personal-Stories/This-is-Me-and-I-m-Not-Ashamed'), ('It Gets Better', 'I expanded my mindfulness and my ability to speak to others. I started to think of the glass as half full, rather than empty.\\xa0Here I am, nine months later, stronger than ever.', 'https://www.nami.org/Personal-Stories/It-Gets-Better'), ('Discrimination and Racism in the History of Mental Health Care', 'People with mental illness have always been discriminated against. They have been denied full participation in society and labeled as dangerous and criminal. Many have been locked in institutions that acted more like prisons designed to punish than hospitals designed to tre...', 'https://www.nami.org/Blogs/NAMI-Blog/July-2020/Discrimination-and-Racism-in-the-History-of-Mental-Health-Care'), ('Challenging Mental Health Stigma in the Black Community', 'In the black community, there is a\\xa0 negative stigma \\xa0surrounding mental health. Instead of seeking professional help for conditions such as depression and anxiety, many in the community resort to self-medication (drugs, opioids, alcohol, etc.) or isolation in an attempt...', 'https://www.nami.org/Blogs/NAMI-Blog/July-2018/Challenging-Mental-Health-Stigma-in-the-Black-Comm'), ('Hold On', 'My name is Amy and today I am going to do the unthinkable and share my experience with suicide. We all deserve to live and we are all worth saving.', 'https://www.nami.org/Personal-Stories/Hold-On'), ('Awareness Events', 'Millions of American’s lives are impacted daily by mental health conditions. As a way to show support for these people NAMI participates in several annual mental health awareness events.', 'https://www.nami.org/Get-Involved/Awareness-Events'), ('Sobriety is Not Boring', 'I’ve been sober for four years, and for someone who’s just out of college, that makes me somewhat of a black sheep among my 20-something-year-old peers. One of my least favorite things to hear is: “I can’t imagine not drinking. I would just be so\\xa0 bored . ”\\xa0 Part of t...', 'https://www.nami.org/Blogs/NAMI-Blog/December-2019/Sobriety-is-Not-Boring'), ('How the Pandemic Has Magnified Mental Health Care Disparities', 'As individuals across the U.S. grapple with illness, the death of loved ones and the ripple effects of social isolation, the mental health system is struggling to meet the increased demand for mental health services. What is most striking, however, is the disparate impact o...', 'https://www.nami.org/Blogs/NAMI-Blog/July-2020/How-the-Pandemic-Has-Magnified-Mental-Health-Care-Disparities'), ('My Daughters, My Doctors and God: My Three Pillars of Support', \"Caroline has lived with with schizophrenia for more than 35 years. Thanks to her relationship with God, her daughters and her doctors she's doing well.\", 'https://www.nami.org/Personal-Stories/My-Daughters-My-Doctors-and-God-My-Three-Pillars'), ('Sharing and Spreading Hope in the African American Community', 'The African American community experiences mental health conditions at comparable rates to the general population, but receives significantly less treatment. One of the reasons is because of the stigma and lack of acceptance that permeates within the community. In order to im...', 'https://www.nami.org/Blogs/NAMI-Blog/February-2016/Sharing-and-Spreading-Hope-in-the-African-American'), ('Why We Need More Culturally Competent Therapists', 'I am a Latinx (a person who is ethnically from a Latin American or Caribbean culture) living with co-occurring mental health conditions. It took quite some time for me to realize that my constant depressive state, trauma responses, insomnia and other symptoms all fall un...', 'https://www.nami.org/Blogs/NAMI-Blog/July-2020/Why-We-Need-More-Culturally-Competent-Therapists'), ('Thank You, Ted Stanley, a Giant in Mental Illness Research', 'Ted Stanley passed away on Jan. 4 at the age of 85. You may not have heard of him before, but due to his dedication to scientific research, the world of our grandchildren is likely to be very different for treatment and recovery from mental illness. A successful businessman...', 'https://www.nami.org/Blogs/NAMI-Blog/January-2016/Thank-You,-Ted-Stanley,-a-Giant-in-Mental-Illness'), ('Coming Together to Celebrate Minority Mental Health Month', 'Looking back at the past month of support and collaboration, it is unbelievable how much was accomplished in July alone. NAMI State Organizations, NAMI Affiliates, members and allies across the country took on the challenges of mental health conditions in minority population...', 'https://www.nami.org/Blogs/NAMI-Blog/August-2015/Coming-Together-to-Celebrate-Minority-Mental-Healt'), ('\"It Gets Better\"', 'Having depression is like being mugged by five different people: hopelessness, sadness, anxiety, self-loathing and demoralization. Once depression had me, I became its prisoner.', 'https://www.nami.org/Personal-Stories/It-Gets-Better-en'), (\"You Don't Look Like You Have Depression\", 'Every ninety days, I need a refill. I have to sit in the waiting room and check off whether or not I am sleeping or eating or feeling irritable. Every time I need a refill on my antidepressant, since I was nineteen years old, a receptionist has handed me this short questio...', 'https://www.nami.org/Blogs/NAMI-Blog/December-2018/You-Don-t-Look-Like-You-Have-Depression'), ('When Stigma Prevented Me from Getting Help', \"I was a young girl when I started to experience confusing and frightening symptoms. I didn’t tell anyone. I knew my problem wasn’t normal and didn't think anyone would ever understand. I didn't dare speak up, in fear of being ridiculed. I thought I could handle it on my o...\", 'https://www.nami.org/Blogs/NAMI-Blog/October-2018/When-Stigma-Prevented-Me-from-Getting-Help'), ('Living with Mental Health Conditions', 'I live with severe depression and anxiety, PTSD, ADHD and borderline personality disorder. Out of all of them, BPD affects my life the most.', 'https://www.nami.org/Personal-Stories/Living-with-Mental-Health-Conditions'), ('Seeking Help When You Need It', 'Growing up, my parents would always say a specific phrase if we were discussing something only meant for our family: “This is family talk.” The phrase was a way for my family to establish boundaries around topics that were private. Because when they said this, I knew I was...', 'https://www.nami.org/Blogs/NAMI-Blog/July-2017/Seeking-Help-When-You-Need-It'), ('Compartiendo Esperanza: Sharing Hope with Our Latino Community', 'In celebration of National Minority Mental Health Awareness Month last year, NAMI Montgomery County, Md., shared a message of hope with Latino parishioners at St. Jude’s Church in Rockville. Following the weekly Sunday night Mass in Spanish, we organized the NAMI program ...', 'https://www.nami.org/Blogs/NAMI-Blog/July-2016/Compartiendo-Esperanza-Sharing-Hope-with-Our-Lati'), ('What Happens When Celebrities Talk About Mental Illness', 'There’s recently been an incredible chain reaction that inspired millions: A connection between three men who never dreamed they had something so personal in common. I heard about it one day in March after presenting NAMI Ending the Silence (ETS) at a local high school....', 'https://www.nami.org/Blogs/NAMI-Blog/May-2018/What-Happens-When-Celebrities-Talk-About-Mental-Il'), ('Gay Pride Month: Coming Out for Mental Health', 'Editor’s Note:\\xa0 During June, many communities are observing Gay Pride Month. Dates for events vary by city, but wherever you live, now is an appropriate time to consider the mental health challenges facing individuals, particularly youth, who “come out” with their sexual ori...', 'https://www.nami.org/Blogs/NAMI-Blog/June-2012/Gay-Pride-Month-Coming-Out-for-Mental-Health'), ('Recovering from an Eating Disorder as a Trans Person', 'I grew up never quite fitting into this binary world. When we separated into boys and girls, I knew where I was supposed to belong, but it didn’t ever feel right. When my sister told me she thought I might be non-binary — things clicked for me: I was gray in a black-and-whi...', 'https://www.nami.org/Blogs/NAMI-Blog/June-2020/Recovering-from-an-Eating-Disorder-as-a-Trans-Person'), ('Disparities Within Minority Mental Health Care', 'Have you ever tried to unlock a door that wouldn’t open? At first, you think you might be doing something wrong. Maybe there’s a trick to it. You pull the key back a little—doesn’t work. You wiggle the key—doesn’t work. You keep trying, but the door stays locked. After a w...', 'https://www.nami.org/Blogs/NAMI-Blog/July-2017/Disparities-Within-Minority-Mental-Health-Care'), ('My Daily Struggle', 'This is a typical day in my life. I struggle with GAD, panic disorder, agoraphobia, OCD and seasonal depression.', 'https://www.nami.org/Personal-Stories/My-Daily-Struggle'), ('Filmmaker Jono Oliver Brings African American Mental Health to the Screen', 'The cast of the film Home, which was directed by Jono Oliver. In recognition of Black History Month and to raise mental health awareness,\\xa0NAMI Wisconsin will be showing the film Home , the story of an African American man living with a mental health condition who a...', 'https://www.nami.org/Blogs/NAMI-Blog/February-2015/Filmmaker-Jono-Oliver-Brings-African-American-Ment'), ('Getting Involved with Minority Mental Health', 'Mental health conditions do not discriminate based on race, color, gender or identity. Anyone can experience the challenges of mental illness regardless of their background. However, culture, race, ethnicity and sexual orientation can make access to mental health treat...', 'https://www.nami.org/Blogs/NAMI-Blog/July-2018/Getting-Involved-with-Minority-Mental-Health'), (\"Minority Mental Health Isn't a Minor Issue\", 'Before I started as an intern at NAMI, I had never heard of Bebe Moore Campbell\\xa0or even National Minority Mental Health Awareness Month (NMMHAM) . When I first heard about the month, I was puzzled and filled with questions. In particular, I wondered: Why is there a need f...', 'https://www.nami.org/Blogs/NAMI-Blog/July-2015/Minority-Mental-Health-Isn-t-a-Minor-Issue'), (\"Cante' Wast'e Win: Breaking the Cycle of Historical Trauma\", 'The author is a board member of NAMI Boulder County (Colo.) and member of NAMI’s American Indian and Alaska Native Networking Group.\\xa0For discussion of historical trauma and the expression of pain as a means toward healing, see also her article Native American tribal communi...', 'https://www.nami.org/Blogs/NAMI-Blog/November-2012/Cante-Wast-e-Win-Breaking-the-Cycle-of-Historica'), ('The Millennial Voice: Normalizing Mental Health Across Backgrounds', 'I’ve been told millennials are entitled, vocal and live by the concept of instant gratification, which results in a lot of\\xa0 impatience . Whether you agree with these perceptions, one thing that’s undeniable is millennials’ ability to advocate. The millennial voice has birth...', 'https://www.nami.org/Blogs/NAMI-Blog/July-2019/The-Millennial-Voice-Normalizing-Mental-Health-Across-Backgrounds'), ('Disgust: A Natural Emotional Response to Abuse', 'Disgust is an emotion I never gave much thought. It was just something that happened to me if I caught a stomach virus or ate something disagreeable. But after practicing psychotherapy for several years, disgust emerged as an important emotion in trauma healing. For example...', 'https://www.nami.org/Blogs/NAMI-Blog/April-2020/Disgust-A-Natural-Emotional-Response-to-Abuse'), ('Why We Must Improve Police Responses to Mental Illness', 'As a criminal justice professor, I follow crime and justice news on a regular basis. Crime and justice news can help explain why people commit crime and engage in deviant acts, inform crime prevention and response, and shine a light on emerging issues in the field. \\xa0 Re...', 'https://www.nami.org/Blogs/NAMI-Blog/March-2020/Why-We-Must-Improve-Police-Responses-to-Mental-Illness'), ('Publications & Reports', 'Full of in-depth stories on mental illness, research, mental health legislation, surveys, personal stories and NAMI events, our publications keep you up-to-date on the state of mental health in our country.', 'https://www.nami.org/Support-Education/Publications-Reports'), ('The Mental Health Care Gap', 'I was raised in a family that was always painfully aware of the disparities between people of color and whites. It made me expect that most people of color will have a harder fight for justice in all areas. So learning about the mental health care gap, for me, was just ...', 'https://www.nami.org/Blogs/NAMI-Blog/July-2020/The-Mental-Health-Care-Gap'), ('Police Perspective: Overcoming PTSD', 'In 1989, I had been on the job for four years. One night, I was working the third shift when I came across an individual at a truck stop off the interstate. A car was in a back area where I would normally run into sex workers, and I saw two people in the backseat. When I ...', 'https://www.nami.org/Blogs/NAMI-Blog/June-2016/Police-Perspective-Overcoming-PTSD'), ('Love’s All That Makes Sense', \"Love's All That Makes Sense By Sakeenah and Anika Francis Purchase As the end of Minority Mental Health Awareness Month draws near, NAMI wants to share some passages from a special book, Loves’ All That Makes Sense: A Mother Daughter Memoir , by Sakeenah and ...\", 'https://www.nami.org/Blogs/NAMI-Blog/July-2015/Love’s-All-That-Makes-Sense'), ('Is American Horror Story Stigmatizing or Just Silly?', 'The new season of American Horror Story is set on the grounds of a 1960’s psychiatric hospital and, of course, uses imagery of a hopefully bygone era of psychiatry as practiced in a large, dehumanizing forensic facility. As the title indicates, this show is meant to sc...', 'https://www.nami.org/Blogs/NAMI-Blog/October-2012/Is-American-Horror-Story-Stigmatizing-or-Just-Sill'), ('Disabled, But Not Alone Anymore', 'If we come together, despite all the hate, we can spread love and save so many lives. It’s sometimes just as simple as a smile. Be a listening ear, strike up a conversation with someone, volunteer your time and resources — nothing is too small.', 'https://www.nami.org/Personal-Stories/Disabled-But-Not-Alone-Anymore'), ('What I Want You to Know as Someone with BPD', 'When I received my borderline personality disorder (BPD) diagnosis, my world came crashing down. While I was aware of the symptoms I was experiencing, I didn’t see the disorder within myself, or maybe just didn’t\\xa0 want\\xa0 to see the disorder within myself. As a mental ...', 'https://www.nami.org/Blogs/NAMI-Blog/October-2020/What-I-Want-You-to-Know-as-Someone-with-BPD'), ('The Unexpected Medical Bill', 'I recently received an invoice from a clinician for psychiatric services my son received two and a half years ago. At the time, I encouraged him to see a psychiatrist to treat his attention deficit disorder. He saw this doctor only once. He made a subsequent appointment, ...', 'https://www.nami.org/Blogs/NAMI-Blog/September-2019/The-Unexpected-Medical-Bill'), ('Trading Benders for Bending Metal', 'At age 13, Chris Schoeck was a student at an upscale private school, a member of the local swim team, a Boy Scout and an alcoholic. For 10 years of his young life, Chris spent each day either secretly drinking, planning how to get alcohol, or figuring out where he could hid...', 'https://www.nami.org/Blogs/NAMI-Blog/February-2016/Trading-Benders-for-Bending-Metal'), ('Black History Month: A Historic Call for Action', 'The New Year is moving quickly and February is already nearly half way through. Aside from the arctic weather conditions, the heart-shaped balloons and the Sochi Olympics, this month is a very unique time to recognize and celebrate the significant role of African Americans an...', 'https://www.nami.org/Blogs/NAMI-Blog/February-2014/Black-History-Month-A-Historic-Call-for-Action'), ('What Can Minority Mental Health Awareness Month Do For Your NAMI Affiliate?', 'Mental health concerns affect people regardless of their religious background, ethnicity or nationality. But how do people from different communities react to mental health issues? What beliefs are held regarding mental health issues in minority communities? What resources...', 'https://www.nami.org/Blogs/NAMI-Blog/July-2016/What-Can-Minority-Mental-Health-Awareness-Month-Do'), ('Mental Health Matters for All Students', 'Alex Williams, Stephen Berkemeier, Dr. Terri Wright \\xa0 The following is an abridged and slightly edited transcript from a recent podcast by the Steve Fund , the nation’s only non-profit organization focused on the mental health and well-being of students of color. The...', 'https://www.nami.org/Blogs/NAMI-Blog/August-2017/Mental-Health-Matters-for-All-Students'), ('When It Comes to Getting Help, Culture Counts', 'A friend of mine once told me, “Black people don’t get depressed.” Even within my own family, mental distress was perceived as a weakness, something to “snap out of” or “get over.” I didn’t think that there was anyone who would understand my experiences and so I was afraid t...', 'https://www.nami.org/Blogs/NAMI-Blog/February-2015/When-It-Comes-to-Getting-Help,-Culture-Counts'), ('Challenging Multicultural Disparities in Mental Health', 'As the racial demographic of the U.S. continues to shift, the mental health field faces the challenge of creating equal, culturally sensitive services for all. Many people are unable to attain their highest level of mental wellness for several reasons, and the culture of m...', 'https://www.nami.org/Blogs/NAMI-Blog/July-2017/Challenging-Multicultural-Disparities-in-Mental-He'), ('Why NAMI Needs to Offer Its Education Programs in Spanish', 'I was told recently that I have the power to save lives. I felt both humbled and excited by these words. As the NAMI San Diego Peer Recovery Programs Coordinator, I meet, individuals, who, like me, live with mental health challenges. Having a robust and positive mental hea...', 'https://www.nami.org/Blogs/NAMI-Blog/October-2015/Why-NAMI-Needs-to-Offer-Its-Education-Programs-in'), ('My Path in Life', 'I discovered how to advocate for myself by being an advocate for others. It is a wonderful sensation to know I can help another person.', 'https://www.nami.org/Personal-Stories/My-Path-in-Life'), ('Talk to Your Doc During American Heart Month', 'It has been 50 years since Lyndon Johnson declared February American Heart Month. While we have steadily reduced the rate of heart disease since then, it still remains our number one killer. And those who experience mental health conditions—people like my hero Carrie Fi...', 'https://www.nami.org/Blogs/NAMI-Blog/February-2017/Talk-to-Your-Doc-During-American-Heart-Month'), ('The Surprising Casualty of Violent Tragedies: Police Officer Mental Health', 'At NAMI, we understand that violent tragedies make the news for a reason—they shake the foundations of what people believe about their communities. People start to wonder: Are our children safe in schools? Are we as moviegoers safe eating our popcorn and candy? While the act...', 'https://www.nami.org/Blogs/NAMI-Blog/May-2016/The-Surprising-Casualty-of-Violent-Tragedies-Poli'), ('The Pressure to Be Everything but Myself', '\"I have a NAMI family that deeply cares as I strive to heal wounds within myself and my household.\"', 'https://www.nami.org/Personal-Stories/The-Pressure-to-Be-Everything-but-Myself'), ('Finding the Threads of Strength: Supporting a Sibling With Mental Illness', 'Recently my family experienced a miracle. Not the type of miracle that draws massive crowds or gets noted in history books, but a miraculous experience that \\xa0we never believed possible. Tucked in a remote area of New England, overlooking the rocky coast, we witnessed my young...', 'https://www.nami.org/Blogs/NAMI-Blog/April-2013/Finding-the-Threads-of-Strength-Supporting-a-Sibl'), ('Depression is Not Alone', 'Logically, I can acknowledge the gratitude I have for the people, opportunities and luxuries in my life. My mental health condition, however, is anything but logical.', 'https://www.nami.org/Personal-Stories/Depression-is-Not-Alone'), ('Learning to Love Myself—and My Bipolar Disorder', 'I had heard of bipolar disorder, but I had stigmatized and stereotypical ideas about what people with bipolar disorder were like.', 'https://www.nami.org/Personal-Stories/Learning-to-Love-Myself—and-My-Bipolar-Disorder'), ('Stigma Affects Everyone, Even Doctors', 'Every year, 300-400 physicians die by suicide in the U.S. This statistic should make us all arc an eyebrow, considering physicians are there to save lives, not take their own. Another study shows that one in four medical students struggle with depression and approx...', 'https://www.nami.org/Blogs/NAMI-Blog/October-2017/Stigma-Affects-Everyone-Even-Doctors'), ('An Important Conversation with My Mom', 'July is Minority Mental Health Awareness Month , and I wanted to take this opportunity to explore a particularly difficult season in my life: the years my mom served time. As a quick background, my mom has always been as much of a friend as a mother, and before this p...', 'https://www.nami.org/Blogs/NAMI-Blog/July-2017/An-Important-Conversation-with-My-Mom'), ('“Oh No, I’ve Just Been Diagnosed With a Mental Illness…”', 'Yashi Brown/Courtesy of the artist These were my first thoughts when I was discharged from UCLA and Harris Methodist hospital in 2002 and again in 2007. I can remember like it was yesterday. Right after our art therapy class, when the nurses met with us one by one, I was...', 'https://www.nami.org/Blogs/NAMI-Blog/June-2012/Oh-No,-I’ve-Just-Been-Diagnosed-With-a-Mental-Ill'), ('What Happens When Celebrities Speak Out', 'I remember the first time I was asked to secure a celebrity for a NAMI event in 2006. It was for a press event to help encourage media coverage of a major NAMI initiative. After many weeks of attempts and rejection, we were fortunate to have Oscar and Emmy-winning actor, ...', 'https://www.nami.org/Blogs/NAMI-Blog/May-2019/What-Happens-When-Celebrities-Speak-Out'), ('Tips to Stay Mentally Healthy While Traveling', 'Traveling has countless benefits: learning, exploring, trying new things, to name just a few. As the quote goes, “Travel is the only thing you buy that makes you richer.” Every adventure can be a life experience, worth the time, money and even the potential conflicts. When ...', 'https://www.nami.org/Blogs/NAMI-Blog/April-2016/Tips-to-Stay-Mentally-Healthy-While-Traveling'), ('When A New Job Became My Worst Nightmare', 'My bipolar I disorder had been in full remission for six years. My friends, family and doctors were cheering me on. I was beginning a successful environmental nonprofit career. \\xa0 The office was fast-paced, stressful and tense. I sat at an open area desk, where I was con...', 'https://www.nami.org/Blogs/NAMI-Blog/March-2019/When-A-New-Job-Became-My-Worst-Nightmare'), ('Using My Voice to Spread Awareness in the Black Community', '\"This was the darkest, most trying moment in my life. However, I had to go through the pain for my purpose to be revealed.\"', 'https://www.nami.org/Personal-Stories/Using-My-Voice-to-Spread-Awareness-in-the-Black-Community'), ('Responding to Bipolar Psychotic Symptoms', 'A first experience with psychosis can be terrifying, exhilarating, disorienting or feel just plain ordinary. Sometimes it can seem ordinary because it was your reality for a while. Your senses and brain colluded to fabricate something that wasn’t actually there. It cert...', 'https://www.nami.org/Blogs/NAMI-Blog/June-2019/Responding-to-Bipolar-Psychotic-Symptoms'), ('A Good Soldier: Surviving My Mother’s Life and Death', 'I was eight years old the first time my mother threatened to kill herself. Born to loving parents and growing up in an idyllic Maryland suburb outside Washington D.C., I had a solid start in life. But within a few years, my home life began to unravel. In addition to de...', 'https://www.nami.org/Blogs/NAMI-Blog/June-2017/A-Good-Soldier-Surviving-My-Mother-s-Life-and-Dea'), ('How to Overcome Stigma in the African American Community', 'While there may be a lot of awareness and research for cancer and other physical health conditions, we struggle as a nation when it comes to prioritizing mental health. And that especially applies to the mental health of African Americans. \\xa0 According to the American Ps...', 'https://www.nami.org/Blogs/NAMI-Blog/July-2019/How-to-Overcome-Stigma-in-the-African-American-Community'), ('How to Keep People Engaged in Mental Health Treatment', 'Mental illness affects every age group, gender, socio-economic status and culture, yet not all Americans have the same access to proper care. For example, only\\xa0 20% \\xa0of Asian Americans with mental illness receive treatment compared to 48% of white adults. And only\\xa0 56% \\xa0of ...', 'https://www.nami.org/Blogs/NAMI-Blog/July-2019/How-to-Keep-People-Engaged-in-Mental-Health-Treatment'), ('College Students of Color: Overcoming Mental Health Challenges', 'July is Minority Mental Health Month which provides an ideal opportunity to talk about the mental health of young people of color. Our country is becoming more and more diverse—the proportion of children of color are projected to become the\\xa0 majority by 2020 \\xa0and people...', 'https://www.nami.org/Blogs/NAMI-Blog/July-2018/College-Students-of-Color-Overcoming-Mental-Healt'), ('National Minority Mental Health Awareness Month: The Time for Action Is Now', 'In honor of National Minority Mental Health Awareness Month, individuals and organizations across the nation are speaking out about the need for increased attention to mental health and improved access to mental health services for diverse populations. \\xa0 To Cecelia Will...', 'https://www.nami.org/Blogs/NAMI-Blog/July-2014/National-Minority-Mental-Health-Awareness-Month-T'), ('Becoming My Own Advocate', '\"I lead with compassion for myself and others. I vow to let the experience change me forever instead of stopping me.\"\\xa0Read Maria\\'s story of finding her inner strength while hospitalized.', 'https://www.nami.org/Personal-Stories/Becoming-My-Own-Advocate'), ('I Am Struggling, But I Am Not Alone', '\"I\\xa0have a host of mental illnesses, but out of them, my PTSD and BPD affect me the most.\"', 'https://www.nami.org/Personal-Stories/I-Am-Struggling-But-I-Am-Not-Alone'), ('Why Faith Is Important to African American Mental Health', 'A connection to faith has long been recognized as having a deeply profound impact on emotional well-being. Throughout history, a connection to a higher power has been the cornerstone of the resilience and empowerment that has sustained generations of individuals from the Afr...', 'https://www.nami.org/Blogs/NAMI-Blog/February-2016/Why-Faith-Is-Important-to-African-American-Mental'), ('The Scariest Panic Symptoms People Don’t Talk About', 'The first time it happened, I was nine years old. My fourth-grade teacher asked me to go to the administration office to pick up some papers. When I arrived there, a strange and terrifying sensation came over me, like I wasn’t sure what I was doing.\\xa0 \\xa0 Am I really here? I...', 'https://www.nami.org/Blogs/NAMI-Blog/December-2018/The-Scariest-Panic-Symptoms-People-Don-t-Talk-About'), ('There is No Shame: The Power to End Mental Health Stigma Begins with Me', '“Don’t share your problems or else you’ll bring shame to yourself and the family.” That’s what I learned when I was a child. I was one of many American kids born in an immigrant family who were taught to obey our elders and authority and just do as we were told. I never k...', 'https://www.nami.org/Blogs/NAMI-Blog/July-2017/There-is-No-Shame-The-Power-to-End-Mental-Health'), ('Tackling the Challenges of Minority Mental Health', 'Mental health within minority communities is a sensitive issue that needs addressing. In a report from the Surgeon General in 2001, these issues were highlighted while exploring the problems of biases, stereotypes and racism within the healthcare system. The report also em...', 'https://www.nami.org/Blogs/NAMI-Blog/July-2015/Tackling-the-Challenges-of-Minority-Mental-Health'), ('Ways We Can Address the Social Determinants of Mental Health', 'Social determinants of health are “ conditions in the places where people live, learn, work, and play [that] affect a wide range of health risks and outcomes.” There are many, and they can affect both physical and mental health. \\xa0\\xa0\\xa0 \\xa0 A focus on social determinants of h...', 'https://www.nami.org/Blogs/NAMI-Blog/August-2020/Ways-We-Can-Address-the-Social-Determinants-of-Mental-Health'), ('The Message of Martin Luther King, Jr. Resonates in NAMI', 'This New Year, like many before, I attended the Rose Parade in Pasadena, Calif. with my dad. We sat in our traditional grandstand seats at the intersection of Orange Grove and Colorado Boulevards, which marks the starting point for the Rose Parade. This year, however, there...', 'https://www.nami.org/Blogs/NAMI-Blog/January-2012/The-Message-of-Martin-Luther-King,-Jr-Resonates-i'), ('Latinos, Mental Health Care and the American Dream', 'Last month I celebrated my 16th anniversary of moving to the United States. I have now lived almost half of my life here. I still remember the day I came to this country. In one day of travel I went from Quito, Ecuador to Kirksville, Mo. I went from living in a city of ...', 'https://www.nami.org/Blogs/NAMI-Blog/September-2012/Latinos,-Mental-Health-Care-and-the-American-Dream'), ('The Struggles of Depression and Anxiety', 'For a long time I’ve battled with social anxiety and depression. Here’s my story in hopes that this can help someone. In hopes that this can help me.', 'https://www.nami.org/Personal-Stories/The-Struggles-of-Depression-and-Anxiety'), ('The Latino Paradox: Mental Health Appears to Not Be an Exception', 'Years ago, in a college class, I learned that socioeconomic status was commonly used as a predictor of health outcomes in most countries. I remember this well because my professor chose to exemplify global cases with extreme pictures of poverty and ghastly pathologies. W...', 'https://www.nami.org/Blogs/NAMI-Blog/October-2013/The-Latino-Paradox-Mental-Health-Appears-to-Not-B'), ('The Fight for My Life', 'My psychiatrist finally found a combination of medications that work for me and I don’t have as many dark days anymore.', 'https://www.nami.org/Personal-Stories/The-Fight-for-My-Life'), ('Don’t Stop Fighting', 'It wasn’t until I was 24 years old and in early recovery from addiction, that I was diagnosed with bipolar disorder. It took me a long time to accept the fact that I had this diagnosis.', 'https://www.nami.org/Personal-Stories/Don-t-Stop-Fighting'), ('Improving Social Determinants of Mental Health in the Black Community', 'In the\\xa0midst of the dueling health\\xa0and racial pandemics impacting Americans in the past several months, the mental and physical health of Black Americans has become a\\xa0central focus. Social determinants of health is a direct contributor to the overall health of\\xa0Black Ameri...', 'https://www.nami.org/Blogs/NAMI-Blog/July-2020/Improving-Social-Determinants-of-Mental-Health-in-the-Black-Community'), ('How Labels Impacted My Mental Health', 'For most of my life, I was associated with a label—usually one I didn’t place on myself. In my youth, I was the pastor’s daughter. As a young adult, I was the head of worship and arts. When I married, I was known as an NBA wife.\\xa0 \\xa0 All I knew were labels. They dictated ...', 'https://www.nami.org/Blogs/NAMI-Blog/August-2019/How-Labels-Impacted-My-Mental-Health'), ('Courage', 'Today, I choose to live with courage. I choose to not allow my PTSD to dictate my every move and reaction anymore.', 'https://www.nami.org/Personal-Stories/Courage'), ('My Reality During A Psychotic Episode', 'CW: This article depicts an episode of psychosis.\\xa0 The end of the world was near. I was a prophet. I had to save us from ourselves.\\xa0 It was 2006. I had been living with untreated severe bipolar I disorder for over six years. I became psychotic trying to understand o...', 'https://www.nami.org/Blogs/NAMI-Blog/June-2019/My-Reality-During-A-Psychotic-Episode'), ('To Train or Not to Train', 'NAMI’s annual Training of Trainers trains over 100 NAMI teachers and facilitators from NAMI signature programs across the country to become state trainers. These new state trainers are then qualified to return to train new teachers and facilitators in their state, thus growin...', 'https://www.nami.org/Blogs/NAMI-Blog/January-2013/To-Train-or-Not-to-Train'), ('FDA Approves Medications for Tardive Dyskinesia', 'Tardive dyskinesia \\xa0(TD) is a movement disorder that occurs in some people who take first-generation antipsychotics (such as haloperidol, chlorpromazine), and to a lesser degree, second-generation antipsychotics (such as aripiprazole or paliperidone). TD results in rep...', 'https://www.nami.org/Blogs/NAMI-Blog/September-2017/FDA-Approves-Medications-for-Tardive-Dyskinesia'), ('Healthy Eating Plus Awareness Leads to Better Mindfulness', 'According to the Centers for Disease Control and Prevention (CDC), African Americans and Latinos have the highest obesity rates in the United States. Many health problems are associated with being overweight, including diabetes and heart disease.\\xa0 Considering the costs ...', 'https://www.nami.org/Blogs/NAMI-Blog/July-2015/Healthy-Eating-Plus-Awareness-Leads-to-Better-Mind'), ('The Strengths and Stigmas of My Culture', 'As the son of Cuban immigrants, I was the first person in my family born in the United States. My mother’s family fled Cuba when she was six years old and my father came to the United States in his late-30s. They said goodbye to family and friends, learned a new language a...', 'https://www.nami.org/Blogs/NAMI-Blog/July-2017/The-Strengths-and-Stigmas-of-My-Culture'), ('NAMI Takes a Stand During a White House Mental Health Panel', 'Knowledge is power. Yet there remains a shortage of knowledge about mental illness and its impact on individuals and families across the country. As NAMI CEO Mary Giliberti told an audience at the White House on June 7, one of NAMI’s primary goals is to empower people wit...', 'https://www.nami.org/Blogs/NAMI-Blog/June-2016/NAMI-Takes-a-Stand-During-a-White-House-Mental-Hea'), ('Finding Mental Health Care that Fits Your Cultural Background', '', 'https://www.nami.org/Your-Journey/Living-with-a-Mental-Health-Condition/Finding-a-Mental-Health-Professional/Finding-Mental-Health-Care-that-Fits-Your-Cultural-Background'), ('Everyone Deserves Adequate Mental Health Care', 'As a caretaker and advocate for my mom, it’s been daunting navigating both the cultural barriers in my Latino community and trying to access mental health services. Thus far, these challenges have proven too difficult to surmount in getting my mother adequate treatment f...', 'https://www.nami.org/Blogs/NAMI-Blog/July-2018/Everyone-Deserves-Adequate-Mental-Health-Care'), ('Black Friday, Cyber Monday… #GivingTuesday!', 'We have a day for giving thanks and two days for sales and buying presents. Now there is a day for giving back. #GivingTuesday is a social media movement to create a national day of giving to kick off the holiday season. The second annual #GivingTuesday is on Dec. 3, 20...', 'https://www.nami.org/Blogs/NAMI-Blog/November-2013/Black-Friday,-Cyber-Monday…-GivingTuesday!')}\n"
     ]
    }
   ],
   "source": [
    "print(unique_results)"
   ]
  },
  {
   "cell_type": "markdown",
   "metadata": {},
   "source": [
    "**All of the results were imported to a csv file that was broken down by the columns: \"Title\", \"Summary\", and \"Link.\"**\n",
    "\n",
    "There were 132 unique results that came from the keywords we identified. Although unique many of them were articles or blog posts that did not really contain helpful resources specific to young men or men of color."
   ]
  },
  {
   "cell_type": "code",
   "execution_count": 13,
   "metadata": {},
   "outputs": [],
   "source": [
    "nami_list = pd.read_csv(\"nami_list.csv\")"
   ]
  },
  {
   "cell_type": "code",
   "execution_count": 14,
   "metadata": {},
   "outputs": [
    {
     "name": "stdout",
     "output_type": "stream",
     "text": [
      "0                   How I Stopped Playing the Blame Game\n",
      "1                                 Anxiety Shapes My Life\n",
      "2                    He’s Not a Criminal, He’s in Crisis\n",
      "3      Mental Health: Let’s Talk About Culture, Race ...\n",
      "4                         Improve Your Own Mental Health\n",
      "                             ...                        \n",
      "127              The Strengths and Stigmas of My Culture\n",
      "128    NAMI Takes a Stand During a White House Mental...\n",
      "129    Finding Mental Health Care that Fits Your Cult...\n",
      "130        Everyone Deserves Adequate Mental Health Care\n",
      "131          Black Friday, Cyber Monday… #GivingTuesday!\n",
      "Name: title, Length: 132, dtype: object\n"
     ]
    }
   ],
   "source": [
    "print(nami_list.title)"
   ]
  },
  {
   "cell_type": "code",
   "execution_count": 15,
   "metadata": {},
   "outputs": [
    {
     "name": "stdout",
     "output_type": "stream",
     "text": [
      "0      Six years ago, when I was 23, I published a me...\n",
      "1      Living with anxiety is one of the reasons I de...\n",
      "2      I facilitate a peer-led support group called t...\n",
      "3      It can be a mouthful to say in a conversation:...\n",
      "4      To me, good mental health means actually wanti...\n",
      "                             ...                        \n",
      "127    As the son of Cuban immigrants, I was the firs...\n",
      "128    Knowledge is power. Yet there remains a shorta...\n",
      "129                                                  NaN\n",
      "130    As a caretaker and advocate for my mom, it’s b...\n",
      "131    We have a day for giving thanks and two days f...\n",
      "Name: summary, Length: 132, dtype: object\n"
     ]
    }
   ],
   "source": [
    "print(nami_list.summary)"
   ]
  },
  {
   "cell_type": "code",
   "execution_count": 16,
   "metadata": {},
   "outputs": [
    {
     "name": "stdout",
     "output_type": "stream",
     "text": [
      "0      https://www.nami.org/Blogs/NAMI-Blog/March-201...\n",
      "1      https://www.nami.org/Personal-Stories/Anxiety-...\n",
      "2      https://www.nami.org/Blogs/NAMI-Blog/July-2020...\n",
      "3      https://www.nami.org/Blogs/From-the-CEO/July-2...\n",
      "4      https://www.nami.org/Personal-Stories/Improve-...\n",
      "                             ...                        \n",
      "127    https://www.nami.org/Blogs/NAMI-Blog/July-2017...\n",
      "128    https://www.nami.org/Blogs/NAMI-Blog/June-2016...\n",
      "129    https://www.nami.org/Your-Journey/Living-with-...\n",
      "130    https://www.nami.org/Blogs/NAMI-Blog/July-2018...\n",
      "131    https://www.nami.org/Blogs/NAMI-Blog/November-...\n",
      "Name: link, Length: 132, dtype: object\n"
     ]
    }
   ],
   "source": [
    "print(nami_list.link)"
   ]
  },
  {
   "cell_type": "code",
   "execution_count": null,
   "metadata": {},
   "outputs": [],
   "source": []
  }
 ],
 "metadata": {
  "kernelspec": {
   "display_name": "Python 3",
   "language": "python",
   "name": "python3"
  },
  "language_info": {
   "codemirror_mode": {
    "name": "ipython",
    "version": 3
   },
   "file_extension": ".py",
   "mimetype": "text/x-python",
   "name": "python",
   "nbconvert_exporter": "python",
   "pygments_lexer": "ipython3",
   "version": "3.8.3"
  }
 },
 "nbformat": 4,
 "nbformat_minor": 4
}
